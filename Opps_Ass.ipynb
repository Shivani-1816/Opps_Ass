{
  "nbformat": 4,
  "nbformat_minor": 0,
  "metadata": {
    "colab": {
      "provenance": []
    },
    "kernelspec": {
      "name": "python3",
      "display_name": "Python 3"
    },
    "language_info": {
      "name": "python"
    }
  },
  "cells": [
    {
      "cell_type": "markdown",
      "source": [
        "1.  What are the five key concepts of Object-Oriented Programming (OOP)?\n",
        "\n",
        "The five key concepts of Object-Oriented Programming (OOP) are:\n",
        "\n",
        "Encapsulation:\n",
        "\n",
        "Encapsulation refers to bundling the data (attributes) and methods (functions) that operate on the data into a single unit, called a class. It also involves restricting direct access to some components of an object to ensure controlled interaction through public methods, enhancing security and reducing complexity.\n",
        "\n",
        "Abstraction:\n",
        "\n",
        "Abstraction is the process of hiding unnecessary details and showing only the essential features of an object. This simplifies the interaction with objects and allows developers to focus on high-level design instead of internal implementation.\n",
        "\n",
        "Inheritance:\n",
        "\n",
        "Inheritance allows a new class (child or subclass) to inherit attributes and methods from an existing class (parent or superclass). This promotes code reuse and establishes a hierarchical relationship between classes, enabling the extension and customization of behavior without modifying the original class.\n",
        "\n",
        "Polymorphism:\n",
        "\n",
        "Polymorphism allows objects of different classes to be treated as objects of a common parent class. It enables the same method or operator to have different behaviors depending on the context, such as method overriding in inheritance or method overloading within the same class.\n",
        "\n",
        "Classes and Objects:\n",
        "\n",
        "Class: A blueprint or template for creating objects. It defines the structure (attributes) and behavior (methods) that the objects created from the class will have.\n",
        "Object: An instance of a class. Objects are concrete entities that hold specific data and can perform actions defined by their class.\n",
        "These principles collectively provide a framework for designing and developing scalable, modular, and maintainable software.\n",
        "\n",
        "\n",
        "\n",
        "\n",
        "\n",
        "\n"
      ],
      "metadata": {
        "id": "Ty2zmmfTWxeD"
      }
    },
    {
      "cell_type": "markdown",
      "source": [
        "2.  Write a Python class for a `Car` with attributes for `make`, `model`, and `year`. Include a method to display\n",
        "the car's information.\n",
        "\n",
        "Here is a Python class for a Car with attributes for make, model, and year, along with a method to display the car's information:"
      ],
      "metadata": {
        "id": "rT6gZ86SXfjB"
      }
    },
    {
      "cell_type": "code",
      "source": [
        "class Car:\n",
        "    def __init__(self, make, model, year):\n",
        "        \"\"\"\n",
        "        Initialize the Car object with make, model, and year attributes.\n",
        "        \"\"\"\n",
        "        self.make = make\n",
        "        self.model = model\n",
        "        self.year = year\n",
        "\n",
        "    def display_info(self):\n",
        "        \"\"\"\n",
        "        Display the car's information in a formatted string.\n",
        "        \"\"\"\n",
        "        return f\"Car Info: {self.year} {self.make} {self.model}\"\n",
        "\n",
        "# Example usage\n",
        "my_car = Car(\"Toyota\", \"Corolla\", 2020)\n",
        "print(my_car.display_info())\n"
      ],
      "metadata": {
        "id": "VquPpGX2Xq1k"
      },
      "execution_count": null,
      "outputs": []
    },
    {
      "cell_type": "markdown",
      "source": [
        "3. Explain the difference between instance methods and class methods. Provide an example of each?\n",
        "\n",
        "Explain the difference between instance methods and class methods. Provide an example of each"
      ],
      "metadata": {
        "id": "QoS3lnwaXtYf"
      }
    },
    {
      "cell_type": "code",
      "source": [
        "class Car:\n",
        "    # Class attribute\n",
        "    vehicle_type = \"Automobile\"\n",
        "\n",
        "    def __init__(self, make, model, year):\n",
        "        \"\"\"\n",
        "        Initialize the Car object with make, model, and year attributes.\n",
        "        \"\"\"\n",
        "        self.make = make\n",
        "        self.model = model\n",
        "        self.year = year\n",
        "\n",
        "    # Instance method\n",
        "    def display_info(self):\n",
        "        \"\"\"\n",
        "        Display the car's information in a formatted string.\n",
        "        \"\"\"\n",
        "        return f\"{self.year} {self.make} {self.model}\"\n",
        "\n",
        "    # Class method\n",
        "    @classmethod\n",
        "    def set_vehicle_type(cls, vehicle_type):\n",
        "        \"\"\"\n",
        "        Set the vehicle_type class attribute.\n",
        "        \"\"\"\n",
        "        cls.vehicle_type = vehicle_type\n",
        "\n",
        "    @classmethod\n",
        "    def from_string(cls, car_string):\n",
        "        \"\"\"\n",
        "        Create a Car instance from a string (e.g., 'Toyota,Corolla,2020').\n",
        "        \"\"\"\n",
        "        make, model, year = car_string.split(\",\")\n",
        "        return cls(make, model, int(year))\n",
        "\n",
        "\n",
        "# Example Usage\n",
        "\n",
        "# Using instance method\n",
        "my_car = Car(\"Toyota\", \"Corolla\", 2020)\n",
        "print(my_car.display_info())  # Output: 2020 Toyota Corolla\n",
        "\n",
        "# Using class method to set class-level attribute\n",
        "Car.set_vehicle_type(\"SUV\")\n",
        "print(Car.vehicle_type)  # Output: SUV\n",
        "\n",
        "# Using class method as a factory method\n",
        "new_car = Car.from_string(\"Honda,Civic,2022\")\n",
        "print(new_car.display_info())  # Output: 2022 Honda Civic\n"
      ],
      "metadata": {
        "id": "-xNRuBIxX80Y"
      },
      "execution_count": null,
      "outputs": []
    },
    {
      "cell_type": "markdown",
      "source": [
        "4.  How does Python implement method overloading? Give an example\n",
        "\n",
        "Python does not support method overloading (having multiple methods with the same name but different signatures) in the traditional sense as in languages like Java or C++. Instead, Python achieves similar behavior using:\n",
        "\n",
        "Default Arguments: Allow methods to handle different numbers or types of arguments.\n",
        "Variable-Length Arguments (*args and **kwargs): Enable methods to accept an arbitrary number of arguments.\n",
        "Type Checking: Dynamically handle behavior based on the types of input parameters.\n",
        "Example of Simulated Method Overloading in Python"
      ],
      "metadata": {
        "id": "aHT75pVpX9-V"
      }
    },
    {
      "cell_type": "code",
      "source": [
        "class Calculator:\n",
        "    def add(self, a, b=0, c=0):\n",
        "        \"\"\"\n",
        "        Simulate method overloading by using default arguments.\n",
        "        This method can handle 2 or 3 numbers.\n",
        "        \"\"\"\n",
        "        return a + b + c\n",
        "\n",
        "\n",
        "# Example Usage\n",
        "calc = Calculator()\n",
        "\n",
        "print(calc.add(5, 10))         # Adding two numbers: 15\n",
        "print(calc.add(1, 2, 3))       # Adding three numbers: 6\n"
      ],
      "metadata": {
        "id": "13DXBBSjYIbr"
      },
      "execution_count": null,
      "outputs": []
    },
    {
      "cell_type": "markdown",
      "source": [
        "5.  What are the three types of access modifiers in Python? How are they denoted\n",
        "\n",
        "In Python, access modifiers control the visibility and accessibility of class attributes and methods. Python has three types of access modifiers: public, protected, and private. These are enforced through naming conventions rather than explicit keywords.\n",
        "\n",
        "1. Public\n",
        "Definition: Public members are accessible from anywhere, both inside and outside the class.\n",
        "Denoted By: No leading underscores in the name.\n",
        "Example:\n",
        "\n"
      ],
      "metadata": {
        "id": "nLnk0-K4YaZE"
      }
    },
    {
      "cell_type": "code",
      "source": [
        "class Example:\n",
        "    def __init__(self):\n",
        "        self.public_var = \"I am public\"\n",
        "\n",
        "obj = Example()\n",
        "print(obj.public_var)  # Accessible outside the class\n"
      ],
      "metadata": {
        "id": "0Js02uTkYi-9"
      },
      "execution_count": null,
      "outputs": []
    },
    {
      "cell_type": "markdown",
      "source": [
        "2. Protected\n",
        "Definition: Protected members are intended to be accessed within the class and its subclasses. Python enforces this by convention only, not strictly. Other code can still access these members.\n",
        "Denoted By: A single leading underscore (_).\n",
        "Example"
      ],
      "metadata": {
        "id": "2_pNzCACYovC"
      }
    },
    {
      "cell_type": "code",
      "source": [
        "class Example:\n",
        "    def __init__(self):\n",
        "        self._protected_var = \"I am protected\"\n",
        "\n",
        "class DerivedExample(Example):\n",
        "    def show_protected(self):\n",
        "        return self._protected_var\n",
        "\n",
        "obj = DerivedExample()\n",
        "print(obj.show_protected())  # Access through subclass\n",
        "print(obj._protected_var)    # Still accessible directly (not strict)\n"
      ],
      "metadata": {
        "id": "7eUiDPSKYpex"
      },
      "execution_count": null,
      "outputs": []
    },
    {
      "cell_type": "markdown",
      "source": [
        "3. Private\n",
        "Definition: Private members are intended to be accessible only within the class. Python performs name mangling to make them less accessible outside the class.\n",
        "Denoted By: A double leading underscore (__).\n",
        "Example:"
      ],
      "metadata": {
        "id": "k38gzG8sYuUp"
      }
    },
    {
      "cell_type": "code",
      "source": [
        "class Example:\n",
        "    def __init__(self):\n",
        "        self.__private_var = \"I am private\"\n",
        "\n",
        "    def get_private_var(self):\n",
        "        return self.__private_var\n",
        "\n",
        "obj = Example()\n",
        "print(obj.get_private_var())  # Access through a public method\n",
        "# print(obj.__private_var)    # This will raise an AttributeError\n",
        "print(obj._Example__private_var)  # Can be accessed using name mangling\n"
      ],
      "metadata": {
        "id": "jRsAXkZ3YvS7"
      },
      "execution_count": null,
      "outputs": []
    },
    {
      "cell_type": "markdown",
      "source": [
        "6. Describe the five types of inheritance in Python. Provide a simple example of multiple inheritance?\n",
        "\n",
        "Five Types of Inheritance in Python\n",
        "\n",
        "Single Inheritance:\n",
        "\n",
        "A child class inherits from one parent class."
      ],
      "metadata": {
        "id": "SYmNPvkbY6Yu"
      }
    },
    {
      "cell_type": "code",
      "source": [
        "class Parent:\n",
        "    def greet(self):\n",
        "        print(\"Hello from Parent!\")\n",
        "\n",
        "class Child(Parent):\n",
        "    pass\n",
        "\n",
        "obj = Child()\n",
        "obj.greet()  # Output: Hello from Parent!\n"
      ],
      "metadata": {
        "id": "G_pexJkUZMJn"
      },
      "execution_count": null,
      "outputs": []
    },
    {
      "cell_type": "markdown",
      "source": [
        "Multiple Inheritance:\n",
        "\n",
        "A child class inherits from more than one parent class.\n",
        "\n"
      ],
      "metadata": {
        "id": "C1RuW1EQZPqe"
      }
    },
    {
      "cell_type": "code",
      "source": [
        "class Parent1:\n",
        "    def greet1(self):\n",
        "        print(\"Hello from Parent1!\")\n",
        "\n",
        "class Parent2:\n",
        "    def greet2(self):\n",
        "        print(\"Hello from Parent2!\")\n",
        "\n",
        "class Child(Parent1, Parent2):\n",
        "    pass\n",
        "\n",
        "obj = Child()\n",
        "obj.greet1()  # Output: Hello from Parent1!\n",
        "obj.greet2()  # Output: Hello from Parent2!\n"
      ],
      "metadata": {
        "id": "ZkZf0p4TZVE0"
      },
      "execution_count": null,
      "outputs": []
    },
    {
      "cell_type": "markdown",
      "source": [
        "Multilevel Inheritance:\n",
        "\n",
        "A chain of inheritance where a class inherits from a child class, which in turn inherits from another class."
      ],
      "metadata": {
        "id": "rycdQVktZW7C"
      }
    },
    {
      "cell_type": "code",
      "source": [
        "class Grandparent:\n",
        "    def greet(self):\n",
        "        print(\"Hello from Grandparent!\")\n",
        "\n",
        "class Parent(Grandparent):\n",
        "    pass\n",
        "\n",
        "class Child(Parent):\n",
        "    pass\n",
        "\n",
        "obj = Child()\n",
        "obj.greet()  # Output: Hello from Grandparent!\n"
      ],
      "metadata": {
        "id": "kARahnKjZaB0"
      },
      "execution_count": null,
      "outputs": []
    },
    {
      "cell_type": "markdown",
      "source": [
        "Hierarchical Inheritance:\n",
        "\n",
        "Multiple child classes inherit from a single parent class."
      ],
      "metadata": {
        "id": "s1fvW1fRZc60"
      }
    },
    {
      "cell_type": "code",
      "source": [
        "class Parent:\n",
        "    def greet(self):\n",
        "        print(\"Hello from Parent!\")\n",
        "\n",
        "class Child1(Parent):\n",
        "    pass\n",
        "\n",
        "class Child2(Parent):\n",
        "    pass\n",
        "\n",
        "obj1 = Child1()\n",
        "obj2 = Child2()\n",
        "\n",
        "obj1.greet()  # Output: Hello from Parent!\n",
        "obj2.greet()  # Output: Hello from Parent!\n"
      ],
      "metadata": {
        "id": "osG0HpYBZg0b"
      },
      "execution_count": null,
      "outputs": []
    },
    {
      "cell_type": "markdown",
      "source": [
        "Hybrid Inheritance:\n",
        "\n",
        "A combination of two or more types of inheritance. This often involves a mix of hierarchical and multiple inheritance."
      ],
      "metadata": {
        "id": "86diRxc8ZjUP"
      }
    },
    {
      "cell_type": "code",
      "source": [
        "class Parent1:\n",
        "    def greet1(self):\n",
        "        print(\"Hello from Parent1!\")\n",
        "\n",
        "class Parent2:\n",
        "    def greet2(self):\n",
        "        print(\"Hello from Parent2!\")\n",
        "\n",
        "class Child1(Parent1):\n",
        "    pass\n",
        "\n",
        "class Child2(Parent1, Parent2):\n",
        "    pass\n",
        "\n",
        "obj = Child2()\n",
        "obj.greet1()  # Output: Hello from Parent1!\n",
        "obj.greet2()  # Output: Hello from Parent2!\n"
      ],
      "metadata": {
        "id": "JJwbisiBZpaW"
      },
      "execution_count": null,
      "outputs": []
    },
    {
      "cell_type": "markdown",
      "source": [
        "7. What is the Method Resolution Order (MRO) in Python? How can you retrieve it programmatically\n",
        "\n",
        "The Method Resolution Order (MRO) is the order in which Python looks for a method or attribute in a hierarchy of classes during inheritance. When a method is called on a class or an object, Python follows the MRO to determine the sequence of classes it searches.\n",
        "\n",
        "In Python, MRO is determined using the C3 Linearization Algorithm. This ensures a consistent and predictable order when dealing with multiple inheritance.\n",
        "The search starts from the current class, then proceeds to parent classes, and so on, following the order defined by MRO."
      ],
      "metadata": {
        "id": "JBFHiZJBZrG_"
      }
    },
    {
      "cell_type": "markdown",
      "source": [
        "How to Retrieve MRO Programmatically\n",
        "You can retrieve the MRO for a class using the following methods:\n",
        "\n",
        "Using the __mro__ Attribute:\n",
        "This returns a tuple of classes in the MRO.\n",
        "\n",
        "python\n",
        "Copy code\n"
      ],
      "metadata": {
        "id": "l_zsTHRXaRj6"
      }
    },
    {
      "cell_type": "code",
      "source": [
        "class A:\n",
        "    pass\n",
        "\n",
        "class B(A):\n",
        "    pass\n",
        "\n",
        "print(B.__mro__)\n",
        "# Output: (<class '__main__.B'>, <class '__main__.A'>, <class 'object'>)\n"
      ],
      "metadata": {
        "id": "hHMVm7MpaOcB"
      },
      "execution_count": null,
      "outputs": []
    },
    {
      "cell_type": "markdown",
      "source": [
        "Using the mro() Method:\n",
        "This returns a list of classes in the MRO."
      ],
      "metadata": {
        "id": "eK8cOJnHaZZI"
      }
    },
    {
      "cell_type": "code",
      "source": [
        "class A:\n",
        "    pass\n",
        "\n",
        "class B(A):\n",
        "    pass\n",
        "\n",
        "print(B.mro())\n",
        "# Output: [<class '__main__.B'>, <class '__main__.A'>, <class 'object'>]\n"
      ],
      "metadata": {
        "id": "JiVo12msaaGf"
      },
      "execution_count": null,
      "outputs": []
    },
    {
      "cell_type": "markdown",
      "source": [
        "Using the help() Function:\n",
        "This prints the MRO along with other details about the class.\n",
        "\n",
        "\n"
      ],
      "metadata": {
        "id": "d6IttLdsad-W"
      }
    },
    {
      "cell_type": "code",
      "source": [
        "class A:\n",
        "    pass\n",
        "\n",
        "class B(A):\n",
        "    pass\n",
        "\n",
        "help(B)\n",
        "# Includes the MRO in the output\n"
      ],
      "metadata": {
        "id": "aGCQJQkDafp1"
      },
      "execution_count": null,
      "outputs": []
    },
    {
      "cell_type": "markdown",
      "source": [
        "8. Create an abstract base class `Shape` with an abstract method `area()`. Then create two subclasses\n",
        "`Circle` and `Rectangle` that implement the `area()` method\n",
        "\n",
        "Here is an implementation of an abstract base class Shape and its subclasses Circle and Rectangle, which implement the area() method:\n",
        "\n"
      ],
      "metadata": {
        "id": "j3n95t-2ar8d"
      }
    },
    {
      "cell_type": "code",
      "source": [
        "from abc import ABC, abstractmethod\n",
        "import math\n",
        "\n",
        "# Abstract base class\n",
        "class Shape(ABC):\n",
        "    @abstractmethod\n",
        "    def area(self):\n",
        "        \"\"\"\n",
        "        Abstract method to calculate the area of the shape.\n",
        "        Must be implemented by subclasses.\n",
        "        \"\"\"\n",
        "        pass\n",
        "\n",
        "# Subclass for Circle\n",
        "class Circle(Shape):\n",
        "    def __init__(self, radius):\n",
        "        self.radius = radius\n",
        "\n",
        "    def area(self):\n",
        "        \"\"\"\n",
        "        Calculate the area of the circle.\n",
        "        Formula: π * radius^2\n",
        "        \"\"\"\n",
        "        return math.pi * self.radius ** 2\n",
        "\n",
        "# Subclass for Rectangle\n",
        "class Rectangle(Shape):\n",
        "    def __init__(self, width, height):\n",
        "        self.width = width\n",
        "        self.height = height\n",
        "\n",
        "    def area(self):\n",
        "        \"\"\"\n",
        "        Calculate the area of the rectangle.\n",
        "        Formula: width * height\n",
        "        \"\"\"\n",
        "        return self.width * self.height\n",
        "\n",
        "# Example usage\n",
        "circle = Circle(5)  # Circle with radius 5\n",
        "rectangle = Rectangle(4, 6)  # Rectangle with width 4 and height 6\n",
        "\n",
        "print(f\"Circle area: {circle.area():.2f}\")       # Output: Circle area: 78.54\n",
        "print(f\"Rectangle area: {rectangle.area():.2f}\") # Output: Rectangle area: 24.00\n"
      ],
      "metadata": {
        "id": "x9TgVDC-bkf2"
      },
      "execution_count": null,
      "outputs": []
    },
    {
      "cell_type": "markdown",
      "source": [
        "Explanation\n",
        "Abstract Base Class (Shape):\n",
        "\n",
        "Inherits from ABC (Abstract Base Class).\n",
        "Contains the @abstractmethod decorator for area(), ensuring that subclasses must implement this method.\n",
        "Subclass Circle:\n",
        "\n",
        "Initializes with a radius attribute.\n",
        "Implements the area() method using the formula\n",
        "𝜋\n",
        "𝑟\n",
        "2\n",
        "πr\n",
        "2\n",
        " .\n",
        "Subclass Rectangle:\n",
        "\n",
        "Initializes with width and height attributes.\n",
        "Implements the area() method using the formula\n",
        "width\n",
        "×\n",
        "height\n",
        "width×height.\n",
        "Example Usage:\n",
        "\n",
        "Instances of Circle and Rectangle are created.\n",
        "The area() method is called on these instances to calculate the area.\n",
        "Key Points\n",
        "Abstract base classes in Python ensure a consistent interface across all subclasses.\n",
        "Attempting to instantiate an abstract class directly will raise a TypeError.\n",
        "\n",
        "\n",
        "\n",
        "\n",
        "\n"
      ],
      "metadata": {
        "id": "3h6LxeWFbm3x"
      }
    },
    {
      "cell_type": "markdown",
      "source": [
        "9.  Demonstrate polymorphism by creating a function that can work with different shape objects to calculate\n",
        "and print their areas\n",
        "\n",
        "Here's an example demonstrating polymorphism by using a function that calculates and prints the areas of different shape objects:\n"
      ],
      "metadata": {
        "id": "qqF1QDYXbxSB"
      }
    },
    {
      "cell_type": "code",
      "source": [
        "from abc import ABC, abstractmethod\n",
        "import math\n",
        "\n",
        "# Abstract base class\n",
        "class Shape(ABC):\n",
        "    @abstractmethod\n",
        "    def area(self):\n",
        "        pass\n",
        "\n",
        "# Subclass for Circle\n",
        "class Circle(Shape):\n",
        "    def __init__(self, radius):\n",
        "        self.radius = radius\n",
        "\n",
        "    def area(self):\n",
        "        return math.pi * self.radius ** 2\n",
        "\n",
        "# Subclass for Rectangle\n",
        "class Rectangle(Shape):\n",
        "    def __init__(self, width, height):\n",
        "        self.width = width\n",
        "        self.height = height\n",
        "\n",
        "    def area(self):\n",
        "        return self.width * self.height\n",
        "\n",
        "# Function to calculate and print the area of any shape\n",
        "def print_area(shape):\n",
        "    \"\"\"\n",
        "    Takes an object of type Shape (or its subclass) and prints its area.\n",
        "    \"\"\"\n",
        "    print(f\"The area of the shape is: {shape.area():.2f}\")\n",
        "\n",
        "# Example usage\n",
        "circle = Circle(5)        # Circle with radius 5\n",
        "rectangle = Rectangle(4, 6)  # Rectangle with width 4 and height 6\n",
        "\n",
        "# Demonstrating polymorphism\n",
        "print_area(circle)        # Output: The area of the shape is: 78.54\n",
        "print_area(rectangle)     # Output: The area of the shape is: 24.00\n"
      ],
      "metadata": {
        "id": "bnGVudisc51e"
      },
      "execution_count": null,
      "outputs": []
    },
    {
      "cell_type": "markdown",
      "source": [
        "Explanation\n",
        "\n",
        "Polymorphism:\n",
        "\n",
        "The function print_area() takes an object of type Shape or any subclass of Shape.\n",
        "It calls the area() method without needing to know the specific type of shape.\n",
        "\n",
        "Dynamic Method Resolution:\n",
        "\n",
        "The area() method is resolved dynamically at runtime based on the actual type of the object (e.g., Circle or Rectangle).\n",
        "Example:\n",
        "\n",
        "The print_area() function works with both Circle and Rectangle objects, demonstrating how a single function can handle different types of shapes.\n",
        "\n",
        "Key Point\n",
        "\n",
        "Polymorphism allows for writing flexible and reusable code by enabling objects of different types to be treated uniformly through a common interface.\n",
        "\n",
        "\n",
        "\n",
        "\n",
        "\n",
        "\n"
      ],
      "metadata": {
        "id": "USu2KoijdDcQ"
      }
    },
    {
      "cell_type": "markdown",
      "source": [
        "10. Implement encapsulation in a `BankAccount` class with private attributes for `balance` and\n",
        "`account_number`. Include methods for deposit, withdrawal, and balance inquiry\n",
        "\n",
        "Here's an implementation of a BankAccount class demonstrating encapsulation with private attributes and methods for deposit, withdrawal, and balance inquiry:"
      ],
      "metadata": {
        "id": "7lrXglIxdJs_"
      }
    },
    {
      "cell_type": "code",
      "source": [
        "class BankAccount:\n",
        "    def __init__(self, account_number, initial_balance=0):\n",
        "        \"\"\"\n",
        "        Initialize the BankAccount with an account number and an optional initial balance.\n",
        "        \"\"\"\n",
        "        self.__account_number = account_number  # Private attribute\n",
        "        self.__balance = initial_balance        # Private attribute\n",
        "\n",
        "    def deposit(self, amount):\n",
        "        \"\"\"\n",
        "        Deposit money into the account.\n",
        "        \"\"\"\n",
        "        if amount > 0:\n",
        "            self.__balance += amount\n",
        "            print(f\"Deposited ${amount:.2f}. New balance: ${self.__balance:.2f}\")\n",
        "        else:\n",
        "            print(\"Deposit amount must be positive.\")\n",
        "\n",
        "    def withdraw(self, amount):\n",
        "        \"\"\"\n",
        "        Withdraw money from the account if sufficient balance exists.\n",
        "        \"\"\"\n",
        "        if 0 < amount <= self.__balance:\n",
        "            self.__balance -= amount\n",
        "            print(f\"Withdrew ${amount:.2f}. New balance: ${self.__balance:.2f}\")\n",
        "        elif amount > self.__balance:\n",
        "            print(\"Insufficient balance.\")\n",
        "        else:\n",
        "            print(\"Withdrawal amount must be positive.\")\n",
        "\n",
        "    def get_balance(self):\n",
        "        \"\"\"\n",
        "        Return the current balance of the account.\n",
        "        \"\"\"\n",
        "        return self.__balance\n",
        "\n",
        "    def get_account_number(self):\n",
        "        \"\"\"\n",
        "        Return the account number.\n",
        "        \"\"\"\n",
        "        return self.__account_number\n",
        "\n",
        "# Example usage\n",
        "account = BankAccount(\"123456789\", 100)  # Create account with initial balance of $100\n",
        "\n",
        "account.deposit(50)                      # Deposit $50\n",
        "account.withdraw(30)                     # Withdraw $30\n",
        "print(f\"Account Balance: ${account.get_balance():.2f}\")  # Check balance\n",
        "print(f\"Account Number: {account.get_account_number()}\") # Get account number\n"
      ],
      "metadata": {
        "id": "ok0pSX_8dUG2"
      },
      "execution_count": null,
      "outputs": []
    },
    {
      "cell_type": "markdown",
      "source": [
        "Key Points of Encapsulation in the Example\n",
        "Private Attributes:\n",
        "\n",
        "__account_number and __balance are private attributes. They cannot be accessed directly from outside the class (e.g., account.__balance will raise an AttributeError).\n",
        "These attributes are encapsulated within the class, and their values can only be accessed or modified through public methods.\n",
        "Public Methods:\n",
        "\n",
        "deposit():\n",
        "\n",
        " Allows controlled access to modify the balance by depositing money.\n",
        "withdraw():\n",
        "\n",
        "Allows controlled access to reduce the balance with withdrawal, ensuring sufficient funds.\n",
        "get_balance():\n",
        "\n",
        " Provides a read-only view of the balance.\n",
        "get_account_number():\n",
        "\n",
        " Returns the account number in a controlled manner.\n",
        "Benefits of Encapsulation:\n",
        "\n",
        "Prevents unauthorized or unintended access to sensitive data (e.g., balance or account number).\n",
        "Ensures validation and rules (e.g., no negative deposits or withdrawals) are enforced consistently.\n",
        "\n",
        "\n",
        "\n",
        "\n",
        "\n"
      ],
      "metadata": {
        "id": "F9Tzi834dWgf"
      }
    },
    {
      "cell_type": "markdown",
      "source": [
        "11. Write a class that overrides the `__str__` and `__add__` magic methods. What will these methods allow\n",
        "you to do?\n",
        "\n",
        "In Python, the __str__ and __add__ magic methods allow you to control how objects are represented as strings and how they behave with the addition (+) operator, respectively.\n",
        "\n",
        "__str__ Method\n",
        "The __str__ method is used to define the string representation of an object.\n",
        "This method allows you to return a human-readable string when you print an object or use str() on the object.\n",
        "__add__ Method\n",
        "The __add__ method is used to define the behavior of the addition operator (+) between two objects.\n",
        "This allows custom behavior for adding two instances of a class, whether it’s combining data, performing arithmetic, or any other custom operation.\n",
        "Example Implementation\n",
        "Let's create a class Point to represent a 2D point with x and y coordinates. We'll override both __str__ and __add__ to customize string representation and addition behavior."
      ],
      "metadata": {
        "id": "SHKQ1cTpdm1Q"
      }
    },
    {
      "cell_type": "code",
      "source": [
        "class Point:\n",
        "    def __init__(self, x, y):\n",
        "        self.x = x\n",
        "        self.y = y\n",
        "\n",
        "    # Override __str__ to define the string representation of the object\n",
        "    def __str__(self):\n",
        "        return f\"Point({self.x}, {self.y})\"\n",
        "\n",
        "    # Override __add__ to define addition behavior for Point objects\n",
        "    def __add__(self, other):\n",
        "        if isinstance(other, Point):\n",
        "            # Adding two points: adding their respective x and y coordinates\n",
        "            return Point(self.x + other.x, self.y + other.y)\n",
        "        else:\n",
        "            # If adding to something that's not a Point, raise an error\n",
        "            return NotImplemented\n",
        "\n",
        "# Example usage\n",
        "point1 = Point(3, 4)\n",
        "point2 = Point(1, 2)\n",
        "\n",
        "# Using __str__ when printing the object\n",
        "print(point1)  # Output: Point(3, 4)\n",
        "\n",
        "# Using __add__ to add two points\n",
        "point3 = point1 + point2\n",
        "print(point3)  # Output: Point(4, 6)\n"
      ],
      "metadata": {
        "id": "AAVPb1wteLyD"
      },
      "execution_count": null,
      "outputs": []
    },
    {
      "cell_type": "markdown",
      "source": [
        "Explanation\n",
        "__str__ Method:\n",
        "\n",
        "The __str__ method returns a string representation of the Point object in the format \"Point(x, y)\", which is used when printing the object or converting it to a string.\n",
        "This method makes the object more readable when printed or logged.\n",
        "__add__ Method:\n",
        "\n",
        "The __add__ method is overridden to define how two Point objects can be added together. Here, we add the x coordinates and y coordinates separately to create a new Point object.\n",
        "This method ensures that the + operator can be used to add two Point objects, resulting in a new Point object with the sum of their coordinates.\n",
        "What These Methods Allow You to Do\n",
        "__str__ allows you to customize the string representation of your object. It is used when you print the object or call str() on it.\n",
        "__add__ allows you to define the behavior of the addition operator (+) for objects of your class. In this case, it allows adding two Point objects by combining their coordinates."
      ],
      "metadata": {
        "id": "yn42kj3DeN8Q"
      }
    },
    {
      "cell_type": "markdown",
      "source": [
        "12. . Create a decorator that measures and prints the execution time of a function\n",
        "\n",
        "You can create a decorator to measure and print the execution time of a function by using the time module in Python. A decorator is a function that wraps another function, allowing you to add functionality to the wrapped function.\n",
        "\n",
        "Here’s how you can implement a decorator for measuring execution time:\n",
        "\n",
        "Code Implementation\n",
        "\n"
      ],
      "metadata": {
        "id": "yOlW7YUReSpG"
      }
    },
    {
      "cell_type": "code",
      "source": [
        "import time\n",
        "\n",
        "# Decorator to measure execution time\n",
        "def measure_execution_time(func):\n",
        "    def wrapper(*args, **kwargs):\n",
        "        start_time = time.time()  # Record start time\n",
        "        result = func(*args, **kwargs)  # Call the original function\n",
        "        end_time = time.time()  # Record end time\n",
        "        execution_time = end_time - start_time  # Calculate the execution time\n",
        "        print(f\"Execution time of {func.__name__}: {execution_time:.4f} seconds\")\n",
        "        return result  # Return the result of the original function\n",
        "    return wrapper\n",
        "\n",
        "# Example function to demonstrate the decorator\n",
        "@measure_execution_time\n",
        "def slow_function():\n",
        "    time.sleep(2)  # Simulate a slow function by sleeping for 2 seconds\n",
        "\n",
        "# Calling the decorated function\n",
        "slow_function()\n"
      ],
      "metadata": {
        "id": "o5f3quYmeeLf"
      },
      "execution_count": null,
      "outputs": []
    },
    {
      "cell_type": "markdown",
      "source": [
        "13. . Explain the concept of the Diamond Problem in multiple inheritance. How does Python resolve it?\n",
        "\n",
        "Diamond Problem in Multiple Inheritance\n",
        "The Diamond Problem occurs in object-oriented programming when a class inherits from two or more classes that have a common ancestor, creating a diamond-shaped inheritance structure. This problem is a result of multiple inheritance, where a class may end up inheriting methods or attributes from the same parent class more than once, leading to ambiguity and potential issues with method resolution and inheritance.\n",
        "\n",
        "Diamond Problem Example\n",
        "Consider the following class hierarchy:"
      ],
      "metadata": {
        "id": "uDc28q_kegcg"
      }
    },
    {
      "cell_type": "code",
      "source": [
        "        A\n",
        "       / \\\n",
        "      B   C\n",
        "       \\ /\n",
        "        D\n"
      ],
      "metadata": {
        "id": "4ihtplQMezrN"
      },
      "execution_count": null,
      "outputs": []
    },
    {
      "cell_type": "markdown",
      "source": [
        "Here:\n",
        "\n",
        "Class D inherits from both B and C.\n",
        "Class B and C both inherit from class A.\n",
        "If class D calls a method that is defined in class A, there's ambiguity about which version of the method should be called: the one in class B or the one in class C (or both). This creates a problem because it's unclear whether D should inherit A's method via B or via C.\n",
        "\n",
        "How Python Resolves the Diamond Problem\n",
        "Python resolves the Diamond Problem using the C3 Linearization algorithm (also called C3 Superclass Linearization). This algorithm ensures a consistent order of inheritance and determines the method resolution order (MRO), which defines the sequence of classes Python will search for methods and attributes.\n",
        "\n",
        "The key idea is:\n",
        "\n",
        "The method resolution order is determined in a way that avoids ambiguity and ensures that a class’s method is called only once in the inheritance chain.\n",
        "\n",
        "Example of the Diamond Problem in Python"
      ],
      "metadata": {
        "id": "e9fwnwUue2i5"
      }
    },
    {
      "cell_type": "code",
      "source": [
        "class A:\n",
        "    def greet(self):\n",
        "        print(\"Hello from A\")\n",
        "\n",
        "class B(A):\n",
        "    def greet(self):\n",
        "        print(\"Hello from B\")\n",
        "\n",
        "class C(A):\n",
        "    def greet(self):\n",
        "        print(\"Hello from C\")\n",
        "\n",
        "class D(B, C):\n",
        "    pass\n",
        "\n",
        "# Create an instance of D\n",
        "d = D()\n",
        "d.greet()  # Output: Hello from B\n"
      ],
      "metadata": {
        "id": "371y1ooSe9gl"
      },
      "execution_count": null,
      "outputs": []
    },
    {
      "cell_type": "markdown",
      "source": [
        "Conclusion\n",
        "\n",
        "The Diamond Problem arises when a class inherits from multiple classes that share a common ancestor, leading to potential ambiguity.\n",
        "Python resolves this issue using C3 Linearization, which ensures a consistent and predictable method resolution order (MRO).\n",
        "The MRO ensures that each class is only searched once, avoiding ambiguity in method inheritance."
      ],
      "metadata": {
        "id": "7rpuU-ukfLu_"
      }
    },
    {
      "cell_type": "markdown",
      "source": [
        "14.  Write a class method that keeps track of the number of instances created from a class\n",
        "\n",
        "You can write a class method to keep track of the number of instances created from a class by using a class variable. A class variable is shared by all instances of the class, so it can be used to store the count of instances.\n",
        "\n",
        "Here's how you can implement it:\n",
        "\n",
        "Code Implementation"
      ],
      "metadata": {
        "id": "GV69Tv5efRqe"
      }
    },
    {
      "cell_type": "code",
      "source": [
        "class MyClass:\n",
        "    # Class variable to keep track of the instance count\n",
        "    instance_count = 0\n",
        "\n",
        "    def __init__(self):\n",
        "        # Increment the instance count each time a new object is created\n",
        "        MyClass.instance_count += 1\n",
        "\n",
        "    @classmethod\n",
        "    def get_instance_count(cls):\n",
        "        \"\"\"\n",
        "        Class method to return the number of instances created.\n",
        "        \"\"\"\n",
        "        return cls.instance_count\n",
        "\n",
        "# Example usage\n",
        "obj1 = MyClass()  # Create first instance\n",
        "obj2 = MyClass()  # Create second instance\n",
        "obj3 = MyClass()  # Create third instance\n",
        "\n",
        "# Get the number of instances created\n",
        "print(f\"Number of instances created: {MyClass.get_instance_count()}\")  # Output: 3\n"
      ],
      "metadata": {
        "id": "ipkvsGMcfoB9"
      },
      "execution_count": null,
      "outputs": []
    },
    {
      "cell_type": "markdown",
      "source": [
        "Key Points\n",
        "\n",
        "Class Method: The @classmethod decorator allows a method to access and modify class-level data (like instance_count), instead of instance-level data.\n",
        "Class Variable: instance_count is shared across all instances of the class, and it's used to track how many times the class has been instantiated.\n",
        "This approach ensures that the number of instances created is tracked efficiently and can be accessed easily through the class method."
      ],
      "metadata": {
        "id": "KgoBPzkPftsc"
      }
    },
    {
      "cell_type": "markdown",
      "source": [
        "15.  Implement a static method in a class that checks if a given year is a leap year.\n",
        "\n",
        "A static method in Python is a method that doesn't take the instance or class as its first argument. It behaves like a regular function but is logically part of the class. You can define a static method using the @staticmethod decorator.\n",
        "\n",
        "Here’s how you can implement a static method to check if a given year is a leap year:\n",
        "\n",
        "Code Implementation"
      ],
      "metadata": {
        "id": "0M8czkjNfzyq"
      }
    },
    {
      "cell_type": "code",
      "source": [
        "class Year:\n",
        "    @staticmethod\n",
        "    def is_leap_year(year):\n",
        "        \"\"\"\n",
        "        Static method to check if a given year is a leap year.\n",
        "        A leap year is divisible by 4, but not divisible by 100,\n",
        "        unless it is also divisible by 400.\n",
        "        \"\"\"\n",
        "        if (year % 4 == 0 and year % 100 != 0) or (year % 400 == 0):\n",
        "            return True\n",
        "        else:\n",
        "            return False\n",
        "\n",
        "# Example usage\n",
        "year = 2024\n",
        "print(f\"{year} is a leap year: {Year.is_leap_year(year)}\")  # Output: 2024 is a leap year: True\n",
        "\n",
        "year = 2023\n",
        "print(f\"{year} is a leap year: {Year.is_leap_year(year)}\")  # Output: 2023 is a leap year: False\n"
      ],
      "metadata": {
        "id": "uoCD7Iaxf7tM"
      },
      "execution_count": null,
      "outputs": []
    },
    {
      "cell_type": "markdown",
      "source": [
        "Explanation\n",
        "\n",
        "Static Method:\n",
        "\n",
        "The is_leap_year method is a static method defined using the @staticmethod decorator.\n",
        "This method doesn't take the instance or class as its first argument. Instead, it operates only on the arguments passed to it, in this case, year.\n",
        "It calculates whether a year is a leap year based on the following rules:\n",
        "A year is a leap year if it is divisible by 4, except when it is also divisible by 100 (unless it is divisible by 400).\n",
        "Leap Year Rules:\n",
        "\n",
        "If the year is divisible by 4 and not divisible by 100, it is a leap year.\n",
        "If the year is divisible by 100, it must also be divisible by 400 to be a leap year.\n",
        "\n",
        "Example Usage:\n",
        "\n",
        "You can call the static method directly on the class Year without creating an instance.\n",
        "The method will return True or False based on whether the given year is a leap year"
      ],
      "metadata": {
        "id": "72l80LwHf-Ke"
      }
    }
  ]
}